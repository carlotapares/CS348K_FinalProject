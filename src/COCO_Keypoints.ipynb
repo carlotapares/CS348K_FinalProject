{
 "cells": [
  {
   "cell_type": "code",
   "execution_count": 1,
   "id": "904144dc",
   "metadata": {},
   "outputs": [],
   "source": [
    "# Endpoint1 , Endpoint2 , line_color\n",
    "PoseTrack_Keypoint_Pairs = [\n",
    "    ['head_top', 'head_bottom', 'Rosy'],\n",
    "    ['head_bottom', 'right_shoulder', 'Yellow'],\n",
    "    ['head_bottom', 'left_shoulder', 'Yellow'],\n",
    "    ['right_shoulder', 'right_elbow', 'Blue'],\n",
    "    ['right_elbow', 'right_wrist', 'Blue'],\n",
    "    ['left_shoulder', 'left_elbow', 'Green'],\n",
    "    ['left_elbow', 'left_wrist', 'Green'],\n",
    "    ['right_shoulder', 'right_hip', 'Purple'],\n",
    "    ['left_shoulder', 'left_hip', 'SkyBlue'],\n",
    "    ['right_hip', 'right_knee', 'Purple'],\n",
    "    ['right_knee', 'right_ankle', 'Purple'],\n",
    "    ['left_hip', 'left_knee', 'SkyBlue'],\n",
    "    ['left_knee', 'left_ankle', 'SkyBlue'],\n",
    "]"
   ]
  },
  {
   "cell_type": "code",
   "execution_count": 2,
   "id": "7d8ae9c6",
   "metadata": {},
   "outputs": [],
   "source": [
    "# Facebook PoseTrack Keypoint Ordering (convert to COCO format)  -   A total of 17\n",
    "PoseTrack_COCO_Keypoint_Ordering = [\n",
    "    'nose',\n",
    "    'head_bottom',\n",
    "    'head_top',\n",
    "    'left_ear',\n",
    "    'right_ear',\n",
    "    'left_shoulder',\n",
    "    'right_shoulder',\n",
    "    'left_elbow',\n",
    "    'right_elbow',\n",
    "    'left_wrist',\n",
    "    'right_wrist',\n",
    "    'left_hip',\n",
    "    'right_hip',\n",
    "    'left_knee',\n",
    "    'right_knee',\n",
    "    'left_ankle',\n",
    "    'right_ankle',\n",
    "]"
   ]
  },
  {
   "cell_type": "code",
   "execution_count": 3,
   "id": "83691dfe",
   "metadata": {},
   "outputs": [],
   "source": [
    "COLOR_DICT = {\n",
    "    'Rosy': (255, 47, 130),\n",
    "    'Purple': (252, 176, 243),\n",
    "    'Yellow': (255, 156, 49),\n",
    "    'Blue': (107, 183, 190),\n",
    "    'Green': (76, 255, 160),\n",
    "    'SkyBlue': (76, 288, 255),\n",
    "    'HotPink': (255, 105, 180),\n",
    "    'SlateBlue': (106, 90, 205),\n",
    "    'DoderBlue': (30, 144, 255),\n",
    "    'PaleTurquoise': (175, 238, 238),\n",
    "    'Cyan': (0, 255, 255),\n",
    "    'DarkTurquoise': (0, 206, 209),\n",
    "    'ForestGreen': (34, 139, 34),\n",
    "    'LimeGreen': (50, 205, 50),\n",
    "    'LightGreen': (144, 238, 144),\n",
    "    'OrangeRed': (255, 69, 0),\n",
    "    'Orange': (255, 165, 0),\n",
    "    'LightSalmon': (255, 160, 122),\n",
    "    'Peru': (205, 133, 63),\n",
    "    'DarkOrange': (255, 140, 0),\n",
    "    'Gold': (255, 215, 0),\n",
    "}"
   ]
  }
 ],
 "metadata": {
  "kernelspec": {
   "display_name": "Python 3",
   "language": "python",
   "name": "python3"
  },
  "language_info": {
   "codemirror_mode": {
    "name": "ipython",
    "version": 3
   },
   "file_extension": ".py",
   "mimetype": "text/x-python",
   "name": "python",
   "nbconvert_exporter": "python",
   "pygments_lexer": "ipython3",
   "version": "3.8.8"
  }
 },
 "nbformat": 4,
 "nbformat_minor": 5
}
